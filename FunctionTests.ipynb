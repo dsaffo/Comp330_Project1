{
 "cells": [
  {
   "cell_type": "code",
   "execution_count": 11,
   "metadata": {
    "collapsed": true
   },
   "outputs": [],
   "source": [
    "import os\n",
    "import re"
   ]
  },
  {
   "cell_type": "code",
   "execution_count": 12,
   "metadata": {
    "collapsed": true
   },
   "outputs": [],
   "source": [
    "def load_files(dir):                                                                                                  \n",
    "    print(\"Loading Files\")\n",
    "    r = []                                                                                                            \n",
    "    subdirs = [x[0] for x in os.walk(dir)]                                                                            \n",
    "    for subdir in subdirs:                                                                                            \n",
    "        files = os.walk(subdir).__next__()[2]                                                                             \n",
    "        if (len(files) > 0):                                                                                          \n",
    "            for file in files:                                                                                        \n",
    "                r.append(subdir + \"/\" + file)                                                                         \n",
    "    return r"
   ]
  },
  {
   "cell_type": "code",
   "execution_count": 13,
   "metadata": {
    "collapsed": false,
    "scrolled": true
   },
   "outputs": [
    {
     "name": "stdout",
     "output_type": "stream",
     "text": [
      "Loading Files\n",
      "['Notes/BUY-POST-IT-NOTES.txt', 'Notes/D1SchoolsTop5Sports.txt', 'Notes/exceldata5.txt', 'Notes/git_commands.txt', 'Notes/growingBasil.txt', 'Notes/How-To-Use-A-Screwdriver.txt', 'Notes/Long-URL-Test.txt', 'Notes/MobyDick.txt', 'Notes/pages79-84.txt', 'Notes/sconeRecipe.txt', 'Notes/starwars9script.txt', 'Notes/stepByStepGuide-lightingCandles.txt', 'Notes/sushi-cookbook.txt', 'Notes/The-Popes-Tweets.txt', 'Notes/_DonaldDuck.txt'] 15\n"
     ]
    }
   ],
   "source": [
    "files = load_files('Notes') #calling function to read through root folder and sub folder\n",
    "print(files,len(files))"
   ]
  },
  {
   "cell_type": "code",
   "execution_count": 14,
   "metadata": {
    "collapsed": false,
    "scrolled": true
   },
   "outputs": [
    {
     "name": "stdout",
     "output_type": "stream",
     "text": [
      "Hey @coolCat go buy some post-it notes\n",
      "#postItNotes\n"
     ]
    }
   ],
   "source": [
    "file = open(files[0])\n",
    "print(file.read())"
   ]
  },
  {
   "cell_type": "code",
   "execution_count": 114,
   "metadata": {
    "collapsed": false
   },
   "outputs": [],
   "source": [
    "def sort_notes(files):\n",
    "    print(\"Sorting Notes\")\n",
    "    all_files=[]\n",
    "    for f in range(len(files)):\n",
    "        name = \"file\" + str(f)\n",
    "        file = open(files[f])\n",
    "        file_str = file.read()\n",
    "        file.close()\n",
    "        #print(files[f])\n",
    "        marks = re.findall(r'\\B[@#!^]\\w+', file_str)\n",
    "        urls = re.findall(r'(?:[a-zA-Z0-9]+(?:-[a-zA-Z0-9]+)*\\.)+[-a-zA-Z@:%_\\+~#?&//=]{2,256}',file_str)\n",
    "     \n",
    "        #print(marks,urls)\n",
    "        file_marks = {'name':files[f],'@':[],'#':[],'!':[],'^':[],'url':[]}\n",
    "        for m in marks:\n",
    "            if len(m) != 0:\n",
    "                file_marks[m[0]].append(m)\n",
    "        for u in urls:\n",
    "            file_marks['url'].append(u)\n",
    "        all_files.append(file_marks)\n",
    "    return all_files"
   ]
  },
  {
   "cell_type": "code",
   "execution_count": 115,
   "metadata": {
    "collapsed": false
   },
   "outputs": [],
   "source": [
    "def sort_marks(dicts, mark):\n",
    "    files = []\n",
    "    for d in dicts:\n",
    "        print(d[mark])\n",
    "        if (len(d[mark]) !=0):\n",
    "            sort = {'name':d['name'], 'marks':d[mark]}\n",
    "            files.append(sort)\n",
    "        \n",
    "    return files"
   ]
  },
  {
   "cell_type": "code",
   "execution_count": 116,
   "metadata": {
    "collapsed": false
   },
   "outputs": [
    {
     "name": "stdout",
     "output_type": "stream",
     "text": [
      "Enter your filepath: Notes\n",
      "Loading Files\n",
      "Sorting Notes\n",
      "Notes Sorted\n"
     ]
    }
   ],
   "source": [
    "filepath = input('Enter your filepath: ')\n",
    "files = load_files(filepath)\n",
    "dicts = sort_notes(files)\n",
    "print(\"Notes Sorted\")\n"
   ]
  },
  {
   "cell_type": "code",
   "execution_count": 84,
   "metadata": {
    "collapsed": false
   },
   "outputs": [
    {
     "data": {
      "text/plain": [
       "{'!': [],\n",
       " '#': [],\n",
       " '@': [],\n",
       " '^': [],\n",
       " 'name': 'Notes/Long-URL-Test.txt',\n",
       " 'url': ['drive.google.com/drive/my-drive']}"
      ]
     },
     "execution_count": 84,
     "metadata": {},
     "output_type": "execute_result"
    }
   ],
   "source": [
    "dicts[6]"
   ]
  },
  {
   "cell_type": "code",
   "execution_count": 124,
   "metadata": {
    "collapsed": false
   },
   "outputs": [
    {
     "name": "stdout",
     "output_type": "stream",
     "text": [
      "['#postItNotes']\n",
      "['#Ramblers', '#sports']\n",
      "[]\n",
      "[]\n",
      "['#sports']\n",
      "['#howTo']\n",
      "[]\n",
      "['#theWhale']\n",
      "[]\n",
      "[]\n",
      "[]\n",
      "['#howTo']\n",
      "[]\n",
      "[]\n",
      "[]\n"
     ]
    }
   ],
   "source": [
    "test = sort_marks(dicts,'#')"
   ]
  },
  {
   "cell_type": "code",
   "execution_count": 125,
   "metadata": {
    "collapsed": false
   },
   "outputs": [
    {
     "data": {
      "text/plain": [
       "[{'marks': ['#postItNotes'], 'name': 'Notes/BUY-POST-IT-NOTES.txt'},\n",
       " {'marks': ['#Ramblers', '#sports'], 'name': 'Notes/D1SchoolsTop5Sports.txt'},\n",
       " {'marks': ['#sports'], 'name': 'Notes/growingBasil.txt'},\n",
       " {'marks': ['#howTo'], 'name': 'Notes/How-To-Use-A-Screwdriver.txt'},\n",
       " {'marks': ['#theWhale'], 'name': 'Notes/MobyDick.txt'},\n",
       " {'marks': ['#howTo'], 'name': 'Notes/stepByStepGuide-lightingCandles.txt'}]"
      ]
     },
     "execution_count": 125,
     "metadata": {},
     "output_type": "execute_result"
    }
   ],
   "source": [
    "test"
   ]
  },
  {
   "cell_type": "code",
   "execution_count": null,
   "metadata": {
    "collapsed": true
   },
   "outputs": [],
   "source": []
  }
 ],
 "metadata": {
  "kernelspec": {
   "display_name": "Python 3",
   "language": "python",
   "name": "python3"
  },
  "language_info": {
   "codemirror_mode": {
    "name": "ipython",
    "version": 3
   },
   "file_extension": ".py",
   "mimetype": "text/x-python",
   "name": "python",
   "nbconvert_exporter": "python",
   "pygments_lexer": "ipython3",
   "version": "3.6.0"
  }
 },
 "nbformat": 4,
 "nbformat_minor": 2
}
