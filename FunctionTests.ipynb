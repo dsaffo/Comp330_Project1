{
 "cells": [
  {
   "cell_type": "code",
   "execution_count": 2,
   "metadata": {
    "collapsed": true
   },
   "outputs": [],
   "source": [
    "import os\n",
    "import re"
   ]
  },
  {
   "cell_type": "code",
   "execution_count": 75,
   "metadata": {
    "collapsed": true
   },
   "outputs": [],
   "source": [
    "def load_files(dir):                                                                                                  \n",
    "    print(\"Loading Files\")\n",
    "    r = []                                                                                                            \n",
    "    subdirs = [x[0] for x in os.walk(dir)]                                                                            \n",
    "    for subdir in subdirs:                                                                                            \n",
    "        files = os.walk(subdir).__next__()[2]                                                                             \n",
    "        if (len(files) > 0):                                                                                          \n",
    "            for file in files:                                                                                        \n",
    "                r.append(subdir + \"/\" + file)                                                                         \n",
    "    return r"
   ]
  },
  {
   "cell_type": "code",
   "execution_count": 72,
   "metadata": {
    "collapsed": false,
    "scrolled": true
   },
   "outputs": [
    {
     "name": "stdout",
     "output_type": "stream",
     "text": [
      "['Notes/BUY-POST-IT-NOTES.txt', 'Notes/D1SchoolsTop5Sports.txt', 'Notes/exceldata5.txt', 'Notes/git_commands.txt', 'Notes/growingBasil.txt', 'Notes/How-To-Use-A-Screwdriver.txt', 'Notes/MobyDick.txt', 'Notes/pages79-84.txt', 'Notes/sconeRecipe.txt', 'Notes/starwars9script.txt', 'Notes/stepByStepGuide-lightingCandles.txt', 'Notes/sushi-cookbook.txt', 'Notes/The-Popes-Tweets.txt', 'Notes/_DonaldDuck.txt'] 14\n"
     ]
    }
   ],
   "source": [
    "files = load_files('Notes') #calling function to read through root folder and sub folder\n",
    "print(files,len(files))"
   ]
  },
  {
   "cell_type": "code",
   "execution_count": 73,
   "metadata": {
    "collapsed": false,
    "scrolled": true
   },
   "outputs": [
    {
     "name": "stdout",
     "output_type": "stream",
     "text": [
      "Hey @coolCat go buy some post-it notes\n",
      "#postItNotes\n"
     ]
    }
   ],
   "source": [
    "file = open(files[0])\n",
    "print(file.read())"
   ]
  },
  {
   "cell_type": "code",
   "execution_count": 77,
   "metadata": {
    "collapsed": false
   },
   "outputs": [],
   "source": [
    "def sort_notes(files):\n",
    "    print(\"Sorting Notes\")\n",
    "    all_files=[]\n",
    "    for f in range(len(files)):\n",
    "        name = \"file\" + str(f)\n",
    "        file = open(files[f])\n",
    "        file_str = file.read()\n",
    "        file.close()\n",
    "        #print(files[f])\n",
    "        marks = re.findall(r'\\B[@#!^]\\w+', file_str)\n",
    "        urls = re.findall(r'(?:[a-zA-Z0-9]+(?:-[a-zA-Z0-9]+)*\\.)+[a-z]{2,10}',file_str)\n",
    "        #print(marks,urls)\n",
    "        file_marks = {'name':files[f],'@':[],'#':[],'!':[],'^':[],'url':[]}\n",
    "        for m in marks:\n",
    "            if len(m) != 0:\n",
    "                file_marks[m[0]].append(m)\n",
    "        for u in urls:\n",
    "            file_marks['url'].append(u)\n",
    "        all_files.append(file_marks)\n",
    "    return all_files"
   ]
  },
  {
   "cell_type": "code",
   "execution_count": 81,
   "metadata": {
    "collapsed": false
   },
   "outputs": [
    {
     "ename": "SyntaxError",
     "evalue": "unexpected EOF while parsing (<ipython-input-81-8dfe59537f8a>, line 2)",
     "output_type": "error",
     "traceback": [
      "\u001b[1;36m  File \u001b[1;32m\"<ipython-input-81-8dfe59537f8a>\"\u001b[1;36m, line \u001b[1;32m2\u001b[0m\n\u001b[1;33m    \u001b[0m\n\u001b[1;37m    ^\u001b[0m\n\u001b[1;31mSyntaxError\u001b[0m\u001b[1;31m:\u001b[0m unexpected EOF while parsing\n"
     ]
    }
   ],
   "source": [
    "def sort_marks(dicts, mark):\n",
    "    \n",
    "    "
   ]
  },
  {
   "cell_type": "code",
   "execution_count": 80,
   "metadata": {
    "collapsed": false
   },
   "outputs": [
    {
     "name": "stdout",
     "output_type": "stream",
     "text": [
      "Enter your filepath: dasd\n",
      "Loading Files\n",
      "Sorting Notes\n",
      "Notes Sorted\n",
      "Notes\n"
     ]
    }
   ],
   "source": [
    "filepath = input('Enter your filepath: ')\n",
    "files = load_files(filepath)\n",
    "dicts = sort_notes(files)\n",
    "print(\"Notes Sorted\")\n"
   ]
  },
  {
   "cell_type": "code",
   "execution_count": null,
   "metadata": {
    "collapsed": true
   },
   "outputs": [],
   "source": []
  },
  {
   "cell_type": "code",
   "execution_count": null,
   "metadata": {
    "collapsed": true
   },
   "outputs": [],
   "source": []
  }
 ],
 "metadata": {
  "kernelspec": {
   "display_name": "Python 3",
   "language": "python",
   "name": "python3"
  },
  "language_info": {
   "codemirror_mode": {
    "name": "ipython",
    "version": 3
   },
   "file_extension": ".py",
   "mimetype": "text/x-python",
   "name": "python",
   "nbconvert_exporter": "python",
   "pygments_lexer": "ipython3",
   "version": "3.6.0"
  }
 },
 "nbformat": 4,
 "nbformat_minor": 2
}
