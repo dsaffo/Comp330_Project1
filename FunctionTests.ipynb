{
 "cells": [
  {
   "cell_type": "code",
   "execution_count": 1,
   "metadata": {
    "collapsed": true
   },
   "outputs": [],
   "source": [
    "import os\n",
    "import re"
   ]
  },
  {
   "cell_type": "code",
   "execution_count": 2,
   "metadata": {
    "collapsed": true
   },
   "outputs": [],
   "source": [
    "def list_files(dir):                                                                                                  \n",
    "    r = []                                                                                                            \n",
    "    subdirs = [x[0] for x in os.walk(dir)]                                                                            \n",
    "    for subdir in subdirs:                                                                                            \n",
    "        files = os.walk(subdir).__next__()[2]                                                                             \n",
    "        if (len(files) > 0):                                                                                          \n",
    "            for file in files:                                                                                        \n",
    "                r.append(subdir + \"/\" + file)                                                                         \n",
    "    return r"
   ]
  },
  {
   "cell_type": "code",
   "execution_count": 3,
   "metadata": {
    "collapsed": false,
    "scrolled": true
   },
   "outputs": [
    {
     "name": "stdout",
     "output_type": "stream",
     "text": [
      "['Notes/BUY-POST-IT-NOTES.txt', 'Notes/D1SchoolsTop5Sports.txt', 'Notes/exceldata5.txt', 'Notes/git_commands.txt', 'Notes/growingBasil.txt', 'Notes/How-To-Use-A-Screwdriver.txt', 'Notes/MobyDick.txt', 'Notes/pages79-84.txt', 'Notes/sconeRecipe.txt', 'Notes/starwars9script.txt', 'Notes/stepByStepGuide-lightingCandles.txt', 'Notes/sushi-cookbook.txt', 'Notes/The-Popes-Tweets.txt', 'Notes/_DonaldDuck.txt']\n"
     ]
    }
   ],
   "source": [
    "files = list_files('Notes') #calling function to read through root folder and sub folder\n",
    "print(files)"
   ]
  },
  {
   "cell_type": "code",
   "execution_count": 4,
   "metadata": {
    "collapsed": false,
    "scrolled": true
   },
   "outputs": [
    {
     "name": "stdout",
     "output_type": "stream",
     "text": [
      "Hey @coolCat go buy some post-it notes\n",
      "#postItNotes\n"
     ]
    }
   ],
   "source": [
    "file = open(files[0])\n",
    "print(file.read())"
   ]
  },
  {
   "cell_type": "code",
   "execution_count": 57,
   "metadata": {
    "collapsed": false
   },
   "outputs": [
    {
     "name": "stdout",
     "output_type": "stream",
     "text": [
      "Notes/BUY-POST-IT-NOTES.txt\n",
      "['@coolCat', '#postItNotes']\n",
      "Notes/D1SchoolsTop5Sports.txt\n",
      "['#Ramblers', '#sports', '@LU']\n",
      "Notes/exceldata5.txt\n",
      "[]\n",
      "Notes/git_commands.txt\n",
      "['!git']\n",
      "Notes/growingBasil.txt\n",
      "['#sports']\n",
      "Notes/How-To-Use-A-Screwdriver.txt\n",
      "['#howTo']\n",
      "Notes/MobyDick.txt\n",
      "['#theWhale']\n",
      "Notes/pages79-84.txt\n",
      "[]\n",
      "Notes/sconeRecipe.txt\n",
      "['^recipe']\n",
      "Notes/starwars9script.txt\n",
      "['!yoda']\n",
      "Notes/stepByStepGuide-lightingCandles.txt\n",
      "['@coolCat', '#howTo']\n",
      "Notes/sushi-cookbook.txt\n",
      "['^recipe']\n",
      "Notes/The-Popes-Tweets.txt\n",
      "['@Pontifex', '@Pontifex', '@Pontifex', '@Pontifex', '@Pontifex', '@Pontifex', '@Pontifex', '@Pontifex', '@Pontifex', '@Pontifex', '@Pontifex', '@Pontifex', '@Pontifex', '@Pontifex', '@Pontifex', '@Pontifex', '@Pontifex', '@Pontifex', '@Pontifex', '@Pontifex']\n",
      "Notes/_DonaldDuck.txt\n",
      "['!donald']\n"
     ]
    }
   ],
   "source": [
    "All_Files=[]\n",
    "for f in range(len(files)):\n",
    "    name = \"file\" + str(f)\n",
    "    file = open(files[f])\n",
    "    print(files[f])\n",
    "    print(re.findall(r'\\B[@#!^]\\w+', file.read()))"
   ]
  },
  {
   "cell_type": "code",
   "execution_count": 21,
   "metadata": {
    "collapsed": false
   },
   "outputs": [
    {
     "name": "stdout",
     "output_type": "stream",
     "text": [
      "Enter your name: David\n",
      "Enter your filepath: Notes\n"
     ]
    }
   ],
   "source": [
    "person = input('Enter your name: ')\n",
    "filepath = input('Enter your filepath: ')"
   ]
  }
 ],
 "metadata": {
  "kernelspec": {
   "display_name": "Python 3",
   "language": "python",
   "name": "python3"
  },
  "language_info": {
   "codemirror_mode": {
    "name": "ipython",
    "version": 3
   },
   "file_extension": ".py",
   "mimetype": "text/x-python",
   "name": "python",
   "nbconvert_exporter": "python",
   "pygments_lexer": "ipython3",
   "version": "3.6.0"
  }
 },
 "nbformat": 4,
 "nbformat_minor": 2
}
