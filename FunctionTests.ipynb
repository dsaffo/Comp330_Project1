{
 "cells": [
  {
   "cell_type": "code",
   "execution_count": 2,
   "metadata": {
    "collapsed": true
   },
   "outputs": [],
   "source": [
    "import os\n",
    "import re"
   ]
  },
  {
   "cell_type": "code",
   "execution_count": 3,
   "metadata": {
    "collapsed": true
   },
   "outputs": [],
   "source": [
    "def list_files(dir):                                                                                                  \n",
    "    r = []                                                                                                            \n",
    "    subdirs = [x[0] for x in os.walk(dir)]                                                                            \n",
    "    for subdir in subdirs:                                                                                            \n",
    "        files = os.walk(subdir).__next__()[2]                                                                             \n",
    "        if (len(files) > 0):                                                                                          \n",
    "            for file in files:                                                                                        \n",
    "                r.append(subdir + \"/\" + file)                                                                         \n",
    "    return r"
   ]
  },
  {
   "cell_type": "code",
   "execution_count": 4,
   "metadata": {
    "collapsed": false,
    "scrolled": true
   },
   "outputs": [
    {
     "name": "stdout",
     "output_type": "stream",
     "text": [
      "['Notes/BUY-POST-IT-NOTES.txt', 'Notes/D1SchoolsTop5Sports.txt', 'Notes/exceldata5.txt', 'Notes/git_commands.txt', 'Notes/growingBasil.txt', 'Notes/How-To-Use-A-Screwdriver.txt', 'Notes/MobyDick.txt', 'Notes/pages79-84.txt', 'Notes/sconeRecipe.txt', 'Notes/starwars9script.txt', 'Notes/stepByStepGuide-lightingCandles.txt', 'Notes/sushi-cookbook.txt', 'Notes/The-Popes-Tweets.txt', 'Notes/_DonaldDuck.txt']\n"
     ]
    }
   ],
   "source": [
    "files = list_files('Notes') #calling function to read through root folder and sub folder\n",
    "print(files)"
   ]
  },
  {
   "cell_type": "code",
   "execution_count": 5,
   "metadata": {
    "collapsed": false,
    "scrolled": true
   },
   "outputs": [
    {
     "name": "stdout",
     "output_type": "stream",
     "text": [
      "Hey @coolCat go buy some post-it notes\n",
      "#postItNotes\n"
     ]
    }
   ],
   "source": [
    "file = open(files[0])\n",
    "print(file.read())"
   ]
  },
  {
   "cell_type": "code",
   "execution_count": 68,
   "metadata": {
    "collapsed": false
   },
   "outputs": [
    {
     "name": "stdout",
     "output_type": "stream",
     "text": [
      "Notes/BUY-POST-IT-NOTES.txt\n",
      "['@coolCat']\n",
      "['#postItNotes']\n",
      "[]\n",
      "[]\n",
      "Notes/D1SchoolsTop5Sports.txt\n",
      "['@LU']\n",
      "['#Ramblers', '#sports']\n",
      "[]\n",
      "[]\n",
      "Notes/exceldata5.txt\n",
      "[]\n",
      "[]\n",
      "[]\n",
      "[]\n",
      "Notes/git_commands.txt\n",
      "[]\n",
      "[]\n",
      "['!git']\n",
      "[]\n",
      "Notes/growingBasil.txt\n",
      "[]\n",
      "['#sports']\n",
      "[]\n",
      "[]\n",
      "Notes/How-To-Use-A-Screwdriver.txt\n",
      "[]\n",
      "['#howTo']\n",
      "[]\n",
      "[]\n",
      "Notes/MobyDick.txt\n",
      "[]\n",
      "['#theWhale']\n",
      "[]\n",
      "[]\n",
      "Notes/pages79-84.txt\n",
      "[]\n",
      "[]\n",
      "[]\n",
      "[]\n",
      "Notes/sconeRecipe.txt\n",
      "[]\n",
      "[]\n",
      "[]\n",
      "[]\n",
      "Notes/starwars9script.txt\n",
      "[]\n",
      "[]\n",
      "['!yoda']\n",
      "[]\n",
      "Notes/stepByStepGuide-lightingCandles.txt\n",
      "['@coolCat']\n",
      "['#howTo']\n",
      "[]\n",
      "[]\n",
      "Notes/sushi-cookbook.txt\n",
      "[]\n",
      "[]\n",
      "[]\n",
      "[]\n",
      "Notes/The-Popes-Tweets.txt\n",
      "['@Pontifex', '@Pontifex', '@Pontifex', '@Pontifex', '@Pontifex', '@Pontifex', '@Pontifex', '@Pontifex', '@Pontifex', '@Pontifex', '@Pontifex', '@Pontifex', '@Pontifex', '@Pontifex', '@Pontifex', '@Pontifex', '@Pontifex', '@Pontifex', '@Pontifex', '@Pontifex']\n",
      "[]\n",
      "[]\n",
      "[]\n",
      "Notes/_DonaldDuck.txt\n",
      "[]\n",
      "[]\n",
      "['!donald']\n",
      "[]\n"
     ]
    }
   ],
   "source": [
    "All_Files=[]\n",
    "for f in range(len(files)):\n",
    "    name = \"file\" + str(f)\n",
    "    file = open(files[f])\n",
    "    print(files[f])\n",
    "    print(re.findall(r'\\B@\\w+', file.read()))\n",
    "    file = open(files[f])\n",
    "    print(re.findall(r'\\B#\\w+', file.read()))\n",
    "    file = open(files[f])\n",
    "    print(re.findall(r'\\B!\\w+', file.read()))\n",
    "    file = open(files[f])\n",
    "    print(re.findall(r'\\B^\\w+', file.read()))\n",
    "   \n"
   ]
  },
  {
   "cell_type": "code",
   "execution_count": 18,
   "metadata": {
    "collapsed": false
   },
   "outputs": [
    {
     "name": "stdout",
     "output_type": "stream",
     "text": [
      "<generator object <genexpr> at 0x000002051A49FA98>\n"
     ]
    }
   ],
   "source": [
    "print( f for f in files[f].split() if f.startswith('s') )"
   ]
  },
  {
   "cell_type": "code",
   "execution_count": 21,
   "metadata": {
    "collapsed": false
   },
   "outputs": [
    {
     "name": "stdout",
     "output_type": "stream",
     "text": [
      "Enter your name: David\n",
      "Enter your filepath: Notes\n"
     ]
    }
   ],
   "source": [
    "person = input('Enter your name: ')\n",
    "filepath = input('Enter your filepath: ')"
   ]
  },
  {
   "cell_type": "code",
   "execution_count": 20,
   "metadata": {
    "collapsed": false
   },
   "outputs": [
    {
     "data": {
      "text/plain": [
       "'David'"
      ]
     },
     "execution_count": 20,
     "metadata": {},
     "output_type": "execute_result"
    }
   ],
   "source": []
  },
  {
   "cell_type": "code",
   "execution_count": 22,
   "metadata": {
    "collapsed": false
   },
   "outputs": [
    {
     "data": {
      "text/plain": [
       "'Notes'"
      ]
     },
     "execution_count": 22,
     "metadata": {},
     "output_type": "execute_result"
    }
   ],
   "source": []
  },
  {
   "cell_type": "code",
   "execution_count": null,
   "metadata": {
    "collapsed": true
   },
   "outputs": [],
   "source": []
  }
 ],
 "metadata": {
  "kernelspec": {
   "display_name": "Python 3",
   "language": "python",
   "name": "python3"
  },
  "language_info": {
   "codemirror_mode": {
    "name": "ipython",
    "version": 3
   },
   "file_extension": ".py",
   "mimetype": "text/x-python",
   "name": "python",
   "nbconvert_exporter": "python",
   "pygments_lexer": "ipython3",
   "version": "3.6.0"
  }
 },
 "nbformat": 4,
 "nbformat_minor": 2
}
